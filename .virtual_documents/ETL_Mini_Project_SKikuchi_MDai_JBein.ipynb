# Import dependencies
import pandas as pd
import numpy as np
pd.set_option('max_colwidth', 400)





# Read the data into a Pandas DataFrame
crowdfunding_info_df = pd.read_excel('Resources/crowdfunding.xlsx')
crowdfunding_info_df.head()


#**************
#** my work **
#**************

# Get a brief summary of the crowdfunding_info DataFrame.
crowdfunding_info_df.info()


# Get a brief summary of the crowdfunding_info DataFrame.





#****************
#** My work  **
#***************

#create a Category DataFrame
category_df = crowdfunding_info_df['category & sub-category'].str.extract(r'(.*)/')
categories = category_df[0].unique()
#categories_df = pd.DataFrame(categories, columns = ['category'])
#categories_df
catID_df = pd.DataFrame({'category_id': ['cat'+str(i) for i in range (1, len(categories)+1)],'category':categories,})
#unique_categories_df.index = unique_categories_df.index+1 
catID_df


#****************
#** My work  **
#***************

#export this as a CSV
catID_df.to_csv('Resources/categories.csv', index=False)


#***************
#** My work  **
#***************

#create a Subcategory DataFrame
subcategory_df = crowdfunding_info_df['category & sub-category'].str.extract(r'/(.*)')
subcategories = subcategory_df[0].unique()
subcategories_df = pd.DataFrame(subcategories, columns = ['subcategory'])
subcategories_df
subcatID_df = pd.DataFrame({'subcategory_id': ['subcat'+str(i) for i in range (1, len(subcategories)+1)],'subcategory':subcategories,})
subcatID_df


#************************
#** Second approach   ***
#************************
crowdfunding_info_df_add_cat = crowdfunding_info_df
crowdfunding_info_df_add_cat['category'] = crowdfunding_info_df['category & sub-category'].str.extract(r'(.*)/')
crowdfunding_info_df_add_cat
crowdfunding_info_df_add_subcat= crowdfunding_info_df_add_cat
crowdfunding_info_df_add_subcat['subcategory'] =crowdfunding_info_df_add_cat['category & sub-category'].str.extract(r'/(.*)')
crowdfunding_info_df_add_subcat.head()
new_crowdfunding_info_df=crowdfunding_info_df_add_subcat
new_crowdfunding_info_df.head()


#************
#**my work**
#***********
#export this as a CSV
catID_df.to_csv('Resources/subcategories.csv', index=False)


#*************
#** my work **
#*************

#extract the unique values from the "category" and "subcategory" columns, and assign them to lists
category_list = new_crowdfunding_info_df['category'].unique().tolist()
subcategory_list = new_crowdfunding_info_df['subcategory'].unique().tolist()


#************
#** my work**
#************
#get the number of distinct values in the category and subcategory lists
print(len(category_list))
print(len(subcategory_list))



#*************
#** my work **
#*************

#create numpy arrays from 1-9 for the categories and 1-24 for the subcategories
category_ids = np.arange(1, 10)
subcategory_ids = np.arange(1, 25)

print(category_ids)
print(subcategory_ids)


#*************
#** my work **
#*************

# Use a list comprehension to add "cat" to each category_id.
cat_ids = ['cat' + str(id) for id in category_ids]

# Use a list comprehension to add "subcat" to each subcategory_id.
subcat_ids = ['subcat' + str(id) for id in subcategory_ids]
print(cat_ids)
print(subcat_ids)


#*************
#** my work **
#*************

#Create a category DataFrame with the category_id array as the category_id and categories list as the category name.
#first, create a dictionary with the category_ID as key and category as value
category_dict = {"category_id":cat_ids, "category":category_list}
category_df = pd.DataFrame(category_dict)
category_df


#*************
#** my work **
#*************

#Create a subcategory DataFrame with the subcategory_id array as the subcategory_id and subcategories list as the subcategory name.
#first, create a dictionary with the subcategory_ID as key and category as value
subcategory_dict = {"subcategory_id":subcat_ids, "subcategory":subcategory_list}
subcategory_df = pd.DataFrame(subcategory_dict)
subcategory_df


#************
#**my work **
#************

#export the categories dataframe and subcategories databrase as CSV files
category_df.to_csv("Resources/category.csv", index=False)
subcategory_df.to_csv("Resources/subcategory.csv", index=False)


#************
#**my work**
#***********
# Get the crowdfunding_info_df columns.
crowdfunding_info_df = pd.read_excel('Resources/crowdfunding.xlsx')
crowdfunding_column_names= crowdfunding_info_df.columns
print(crowdfunding_column_names)


# Get the crowdfunding_info_df columns.






# Assign the category and subcategory values to category and subcategory columns.



# Get the unique categories and subcategories in separate lists.


print(categories)
print(subcategories)


# Get the number of distinct values in the categories and subcategories lists.
print(len(categories))
print(len(subcategories))


# Create numpy arrays from 1-9 for the categories and 1-24 for the subcategories.
category_ids = np.arange(1, 10)
subcategory_ids = np.arange(1, 25)

print(category_ids)
print(subcategory_ids)


# Use a list comprehension to add "cat" to each category_id. 

# Use a list comprehension to add "subcat" to each subcategory_id.    

    
print(cat_ids)
print(scat_ids)


# Create a category DataFrame with the category_id array as the category_id and categories list as the category name.

# Create a category DataFrame with the subcategory_id array as the subcategory_id and subcategories list as the subcategory name. 



category_df


subcategory_df


# Export categories_df and subcategories_df as CSV files.
category_df.to_csv("Resources/category.csv", index=False)

subcategory_df.to_csv("Resources/subcategory.csv", index=False)





#******************
#** My work   **
#******************
campaign_df = crowdfunding_info_df.copy()



# Create a copy of the crowdfunding_info_df DataFrame name campaign_df. 
campaign_df = crowdfunding_info_df.copy()
campaign_df.head()


# Rename the blurb, launched_at, and deadline columns.



# Convert the goal and pledged columns to a `float` data type.



# Check the datatypes



# Format the launched_date and end_date columns to datetime format
from datetime import datetime as dt



# Merge the campaign_df with the category_df on the "category" column and 
# the subcategory_df on the "subcategory" column.


campaign_merged_df.tail(10)


# Drop unwanted columns



# Export the DataFrame as a CSV file. 
campaign_cleaned.to_csv("Resources/campaign.csv", index=False)





# Read the data into a Pandas DataFrame. Use the `header=2` parameter when reading in the data.
contact_info_df = pd.read_excel('Resources/contacts.xlsx', header=2)
contact_info_df.head()








# Iterate through the contact_info_df and convert each row to a dictionary.
import json
dict_values = []


# Print out the list of values for each row.
print(dict_values)


# Create a contact_info DataFrame and add each list of values, i.e., each row 
# to the 'contact_id', 'name', 'email' columns.



# Check the datatypes.



# Create a "first"name" and "last_name" column with the first and last names from the "name" column. 


# Drop the contact_name column




# Reorder the columns



# Check the datatypes one more time before exporting as CSV file.



# Export the DataFrame as a CSV file. 
contacts_df_clean.to_csv("Resources/contacts.csv", encoding='utf8', index=False)





contact_info_df_copy = contact_info_df.copy()
contact_info_df_copy.head()


# Extract the four-digit contact ID number.



# Check the datatypes.



# Convert the "contact_id" column to an int64 data type.



# Extract the name of the contact and add it to a new column.



# Extract the email from the contacts and add the values to a new column.



# Create a copy of the contact_info_df with the 'contact_id', 'name', 'email' columns.



# Create a "first"name" and "last_name" column with the first and last names from the "name" column. 


# Drop the contact_name column



# Reorder the columns



# Check the datatypes one more time before exporting as CSV file.



# Export the DataFrame as a CSV file. 
# contacts_df_clean.to_csv("Resources/contacts.csv", encoding='utf8', index=False)



